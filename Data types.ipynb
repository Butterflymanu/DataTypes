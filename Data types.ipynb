{
 "cells": [
  {
   "cell_type": "code",
   "execution_count": 1,
   "metadata": {},
   "outputs": [
    {
     "name": "stdout",
     "output_type": "stream",
     "text": [
      "X value:- 1234\n",
      "<class 'int'>\n",
      "a value:- 234\n"
     ]
    }
   ],
   "source": [
    "# Data Types\n",
    "\n",
    "#Integers\n",
    "x=1234\n",
    "print(\"X value:-\",x)\n",
    "print(type(x))\n",
    "\n",
    "a=234\n",
    "print(\"a value:-\",a)"
   ]
  },
  {
   "cell_type": "code",
   "execution_count": 5,
   "metadata": {},
   "outputs": [
    {
     "name": "stdout",
     "output_type": "stream",
     "text": [
      "f value:- 678.34\n",
      "<class 'float'>\n",
      "l value:- 54.456\n"
     ]
    }
   ],
   "source": [
    "#float\n",
    "\n",
    "f=678.34\n",
    "print(\"f value:-\",f)\n",
    "print(type(f))\n",
    "\n",
    "l=54.456\n",
    "print(\"l value:-\",l)"
   ]
  },
  {
   "cell_type": "code",
   "execution_count": 6,
   "metadata": {},
   "outputs": [
    {
     "name": "stdout",
     "output_type": "stream",
     "text": [
      "k value:- 34567j\n",
      "<class 'complex'>\n",
      "t value:- 22044j\n"
     ]
    }
   ],
   "source": [
    "#complex\n",
    "\n",
    "k=34567j\n",
    "print(\"k value:-\",k)\n",
    "print(type(k))\n",
    "\n",
    "t=22044j\n",
    "print(\"t value:-\",t)"
   ]
  },
  {
   "cell_type": "code",
   "execution_count": 7,
   "metadata": {},
   "outputs": [
    {
     "name": "stdout",
     "output_type": "stream",
     "text": [
      "False\n",
      "<class 'bool'>\n",
      "True\n"
     ]
    }
   ],
   "source": [
    "#boolean\n",
    "\n",
    "s=10 \n",
    "j=7\n",
    "n=s<=j\n",
    "print(n)\n",
    "print(type(n))\n",
    "\n",
    "num=10>7\n",
    "print(num)"
   ]
  },
  {
   "cell_type": "code",
   "execution_count": 8,
   "metadata": {},
   "outputs": [
    {
     "name": "stdout",
     "output_type": "stream",
     "text": [
      "<class 'str'>\n",
      "Length:- 4\n",
      "Upper_case:- MANU\n",
      "Lower_case:- manu\n",
      "Slicing:- Python is \n",
      "n is a easy programming language\n",
      "Python is a \n",
      "Python is a easy programming language\n",
      "Pto saes\n",
      "egaugnal gnimmargorp ysae a si nohtyP\n",
      "Manu\n",
      "5\n",
      "-1\n",
      "2\n",
      "True\n",
      "True\n",
      "False\n",
      "True\n",
      "False\n",
      "manh\n",
      "manu\n",
      "False\n",
      "False\n",
      "['manu']\n",
      "Python programming\n",
      "PythonPythonPython\n",
      "Pythonprogrammingprogramming\n",
      "You can learn Python easily at YouTube\n",
      "You can learn Python easily at YouTube\n",
      "you can learn Python easily at YouTube\n",
      "you can learn Python easily at YouTube\n"
     ]
    }
   ],
   "source": [
    "#String\n",
    "\n",
    "name=\"manu\"\n",
    "print(type(name))\n",
    "print(\"Length:-\",len(name))\n",
    "print(\"Upper_case:-\",name.upper())\n",
    "print(\"Lower_case:-\",name.lower())\n",
    "\n",
    "#Slicing:-To get a range of characters\n",
    "k=\"Python is a easy programming language\"\n",
    "print(\"Slicing:-\",k[0:10]) #from 0 index to 10th index\n",
    "print(k[5:])#we get whole string from 5th index\n",
    "print(k[:12])#we get the output from 0 to the end point\n",
    "print(k[ : ])#we get the whole string\n",
    "print(k[0:15:2])#we get the output from 0 to 15 index and skips 2 indexs\n",
    "print(k[: :-1])#Reversing a string\n",
    "print(name.capitalize())#capitalize the first char in string\n",
    "print(k.count('a'))#count of the specified value\n",
    "print(name.find('y'))#finds index of the specified value\n",
    "print(k.index('t'))#index number of the specified value\n",
    "print(name.isalnum())\n",
    "print(name.isalpha())\n",
    "print(name.isdecimal())\n",
    "print(name.islower())\n",
    "print(name.isupper())\n",
    "print(name.replace('u','h' ))\n",
    "print(name.strip())\n",
    "print(name.startswith('h'))\n",
    "print(name.endswith('v'))\n",
    "print(name.split())\n",
    "\n",
    "\n",
    "#String Operations\n",
    "\n",
    "a=\"Python\"\n",
    "b=\"programming\"\n",
    "print(a+\" \"+b)\n",
    "print(a*3)\n",
    "print(a+b*2)\n",
    "\n",
    "\n",
    "#String Interpolation\n",
    "\n",
    "k=\"Python\"\n",
    "p=\"YouTube\"\n",
    "\n",
    "c='You can learn %s easily at %s'%(k,p)\n",
    "print(c)\n",
    "\n",
    "x=f'You can learn {k} easily at {p}'\n",
    "print(x)\n",
    "\n",
    "z='you can learn {k} easily at {p}'.format(k=k,p=p)\n",
    "print(z)\n",
    "\n",
    "from string import Template\n",
    "h=Template('you can learn $k easily at $p')\n",
    "print(h.substitute(k=k,p=p))\n",
    "\n",
    "\n",
    "\n",
    "\n",
    "\n"
   ]
  },
  {
   "cell_type": "code",
   "execution_count": 9,
   "metadata": {},
   "outputs": [
    {
     "name": "stdout",
     "output_type": "stream",
     "text": [
      "[789, 'Python', 234, 'Programm', 1234, 'manu', 765, 'AIT', 87.87, 54j]\n",
      "['Python', 234, 'Programm']\n",
      "[789, 'Python programming', 234, 'Programm', 1234, 'manu', 765, 'AIT', 87.87, 54j]\n",
      "[789, 'Python programming', 234, 'Programm', 1234, 'manu', 765, 'AIT', 87.87, 54j, 'complex']\n",
      "[789, 'Python programming', 234, 'Programm', 'programming', 1234, 'manu', 765, 'AIT', 87.87, 54j, 'complex']\n",
      "['complex', 54j, 87.87, 'AIT', 765, 'manu', 1234, 'programming', 'Programm', 234, 'Python programming', 789]\n"
     ]
    }
   ],
   "source": [
    "#List DataType\n",
    "\n",
    "mylist=[789,'Python',234,'Programm',1234,'manu',765,'AIT',87.87,54j]\n",
    "print(mylist)\n",
    "print(mylist[1:4])\n",
    "mylist[1]='Python programming' #replacing value\n",
    "print(mylist)\n",
    "mylist.append('complex')\n",
    "print(mylist)\n",
    "mylist.insert(4,'programming')\n",
    "print(mylist)\n",
    "mylist.reverse()\n",
    "print(mylist)"
   ]
  },
  {
   "cell_type": "code",
   "execution_count": 10,
   "metadata": {},
   "outputs": [
    {
     "name": "stdout",
     "output_type": "stream",
     "text": [
      "{1: 'python', 2: 'C++', 3: 'Java', 4: 'aws', 5: 'SQL', 6: 'Data Science'}\n",
      "SQL\n",
      "C++\n",
      "{1: 'python', 2: 'C++', 3: 'Java', 4: 'aws', 5: 'SQL', 6: 'Data Analyst'}\n",
      "aws\n"
     ]
    }
   ],
   "source": [
    "#Dictionary DataType\n",
    "\n",
    "Courses={1:'python',2:'C++',3:'Java',4:'aws',5:'SQL',6:'Data Science'}\n",
    "print(Courses)\n",
    "print(Courses[5])\n",
    "print(Courses.get(2))\n",
    "Courses[6]='Data Analyst' #replacing or updating\n",
    "print(Courses)\n",
    "print(Courses[4])"
   ]
  },
  {
   "cell_type": "code",
   "execution_count": 11,
   "metadata": {},
   "outputs": [
    {
     "name": "stdout",
     "output_type": "stream",
     "text": [
      "('teenmar', 'balu', 'toliprema', 'kushi', 'gabbar singh', 'bro', 'jalsa')\n",
      "1\n",
      "bro\n"
     ]
    }
   ],
   "source": [
    "#Tuple DataType\n",
    "\n",
    "pavankalyan_movies=('teenmar','balu','toliprema','kushi','gabbar singh','bro','jalsa')\n",
    "print(pavankalyan_movies)\n",
    "print(pavankalyan_movies.count('balu'))\n",
    "print(pavankalyan_movies[5])\n"
   ]
  },
  {
   "cell_type": "code",
   "execution_count": 12,
   "metadata": {},
   "outputs": [
    {
     "name": "stdout",
     "output_type": "stream",
     "text": [
      "{354, 'Python', 'manu', 'pavankalyan', 5464, 24, 123, 4575}\n"
     ]
    }
   ],
   "source": [
    "##Set Data-Type\n",
    "\n",
    "myset={24,5464,123,'Python','pavankalyan','manu',354,4575}\n",
    "print(myset)\n",
    "\n"
   ]
  },
  {
   "cell_type": "code",
   "execution_count": 13,
   "metadata": {},
   "outputs": [
    {
     "name": "stdout",
     "output_type": "stream",
     "text": [
      "[0, 1, 2, 3, 4, 5, 6, 7, 8, 9, 10]\n",
      "[[345, 67, 23, 789], {432, 89, 987, 765}]\n"
     ]
    }
   ],
   "source": [
    "#Range DataType\n",
    "\n",
    "range(0,10)\n",
    "print(list(range(11)))\n",
    "\n",
    "a=[345,67,23,789]\n",
    "b={432,987,765,89}\n",
    "c=[a,b]\n",
    "print(c)"
   ]
  }
 ],
 "metadata": {
  "kernelspec": {
   "display_name": "Python 3",
   "language": "python",
   "name": "python3"
  },
  "language_info": {
   "codemirror_mode": {
    "name": "ipython",
    "version": 3
   },
   "file_extension": ".py",
   "mimetype": "text/x-python",
   "name": "python",
   "nbconvert_exporter": "python",
   "pygments_lexer": "ipython3",
   "version": "3.12.2"
  }
 },
 "nbformat": 4,
 "nbformat_minor": 2
}
